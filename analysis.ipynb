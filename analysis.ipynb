{
 "cells": [
  {
   "cell_type": "code",
   "execution_count": 1,
   "metadata": {},
   "outputs": [],
   "source": [
    "import numpy as np\n",
    "import pandas as pd\n",
    "import matplotlib.pyplot as plt\n",
    "import re, os\n",
    "import scipy.stats as stats"
   ]
  },
  {
   "cell_type": "code",
   "execution_count": 2,
   "metadata": {},
   "outputs": [],
   "source": [
    "plt.style.use('tableau-colorblind10')"
   ]
  },
  {
   "cell_type": "code",
   "execution_count": 3,
   "metadata": {},
   "outputs": [],
   "source": [
    "projdir = os.getcwd()\n",
    "outdir = projdir + \"/output/MonteCarlo\"\n",
    "plotdir = projdir + \"/figures\""
   ]
  },
  {
   "cell_type": "code",
   "execution_count": 4,
   "metadata": {},
   "outputs": [
    {
     "name": "stdout",
     "output_type": "stream",
     "text": [
      "Will save plots to  /Users/aewsma/codes/tempthresholds/figures\n"
     ]
    }
   ],
   "source": [
    "if not os.path.exists(plotdir):\n",
    "    os.makedirs(plotdir)\n",
    "print(\"Will save plots to \",plotdir)"
   ]
  },
  {
   "cell_type": "code",
   "execution_count": 5,
   "metadata": {},
   "outputs": [],
   "source": [
    "scenarios = [(1,26),(2,45),(4,60),(5,85)]\n",
    "surge_option = 0\n",
    "panels = [\"a.\",\"b.\",\"c.\",\"d.\",\"e.\",\"f.\",\"g.\",\"h.\"]"
   ]
  },
  {
   "cell_type": "code",
   "execution_count": 6,
   "metadata": {},
   "outputs": [],
   "source": [
    "def subtract_ref_npv(dfO,dfG):\n",
    "    nens = dfO.ens.max()\n",
    "    npv_ref = np.zeros(nens)\n",
    "    df1 = dfO.loc[dfO.time==1]\n",
    "    for i in range(1,nens+1):\n",
    "        # first 10 of the first timestep for a single ensemble member are OptimalCost\n",
    "        # *10 to account for 10-year timestep vs annual costs\n",
    "        npv_ref[i-1] = np.sum(np.array(df1.loc[df1.ens==i,\"cost\"])[:10])*10\n",
    "    dfG.npv = dfG.npv - npv_ref\n",
    "    return dfG"
   ]
  },
  {
   "cell_type": "code",
   "execution_count": 126,
   "metadata": {},
   "outputs": [],
   "source": [
    "dfS = {scen : None for scen in scenarios} # global NPV, GMSL, temps, brick ensemble #s, \n",
    "#dfO = {scen : None for scen in scenarios} # global optimal cost, strategies for each segment\n",
    "\n",
    "for (ssp,rcp) in scenarios:\n",
    "    slrdir = outdir + \"/SSP\"+str(ssp)+\"_BRICK\"+str(rcp)+\"/SSP\"+str(ssp)+\"_BRICK\"+str(rcp)+\"_global_varySLR/CIAM MC2500/PostProcessing\"\n",
    "    dfS[(ssp,rcp)] = pd.read_csv(slrdir+\"/globalnpv_SSP\"+str(ssp)+\"_BRICK\"+str(rcp)+\"_global_varySLR.csv\")\n",
    "    dfO = pd.read_csv(slrdir+\"/globalts_\"+str(rcp)+\"_SSP\"+str(ssp)+\"_BRICK\"+str(rcp)+\"_global_varySLR.csv\")\n",
    "    dfS[(ssp,rcp)] = subtract_ref_npv(dfO,dfS[(ssp,rcp)])\n",
    "\n",
    "    dfR = pd.read_csv(slrdir+\"/regionnpv_SSP\"+str(ssp)+\"_BRICK\"+str(rcp)+\"_global_varySLR.csv\")\n",
    "    dfO = pd.read_csv(slrdir+\"/regionts_SSP\"+str(ssp)+\"_BRICK\"+str(rcp)+\"_global_varySLR.csv\")\n",
    "    dfR = dfR - dfO\n",
    "\n",
    "    dfS[(ssp,rcp)] = dfS[(ssp,rcp)].join(dfR)\n",
    "    dfS[(ssp,rcp)][\"scenario\"] = [str(ssp)+\"-\"+str(rcp)]*len(dfS[(ssp,rcp)])\n",
    "    "
   ]
  },
  {
   "cell_type": "code",
   "execution_count": 127,
   "metadata": {},
   "outputs": [],
   "source": [
    "dfN = pd.concat([dfS[(ssp,rcp)] for (ssp,rcp) in scenarios])"
   ]
  },
  {
   "cell_type": "markdown",
   "metadata": {},
   "source": [
    "<br>\n",
    "\n",
    "---\n",
    "\n",
    "<br>"
   ]
  },
  {
   "cell_type": "code",
   "execution_count": null,
   "metadata": {},
   "outputs": [],
   "source": []
  },
  {
   "cell_type": "markdown",
   "metadata": {},
   "source": [
    "### NPV (global) of total adaptation costs and damages, as bar graphs with error bars"
   ]
  },
  {
   "cell_type": "markdown",
   "metadata": {},
   "source": [
    "Global NPV of future adaptation costs at different thresholds"
   ]
  },
  {
   "cell_type": "code",
   "execution_count": 128,
   "metadata": {},
   "outputs": [],
   "source": [
    "quants = [.05,.5,.95]\n",
    "threshold_labels = [\"<1.5 $^\\circ$C\", \"1.5-2.5 $^\\circ$C\", \"2.5-3.5 $^\\circ$C\", \"3.5-4.5 $^\\circ$C\", \">4.5 $^\\circ$C\"]\n",
    "threshold_colors = [\"steelblue\", \"seagreen\", \"darkorange\", \"firebrick\", \"black\"]"
   ]
  },
  {
   "cell_type": "markdown",
   "metadata": {},
   "source": [
    "Heights for bar graph"
   ]
  },
  {
   "cell_type": "code",
   "execution_count": 129,
   "metadata": {},
   "outputs": [],
   "source": [
    "npv_heights = np.array([dfN.loc[(dfN.temp2100 <= 1.5), \"npv\"].quantile(0.5),\n",
    "                        dfN.loc[(dfN.temp2100 > 1.5) & (dfN.temp2100 <= 2.5), \"npv\"].quantile(0.5),\n",
    "                        dfN.loc[(dfN.temp2100 > 2.5) & (dfN.temp2100 <= 3.5), \"npv\"].quantile(0.5),\n",
    "                        dfN.loc[(dfN.temp2100 > 3.5) & (dfN.temp2100 <= 4.5), \"npv\"].quantile(0.5),\n",
    "                        dfN.loc[(dfN.temp2100 > 4.5), \"npv\"].quantile(0.5)])"
   ]
  },
  {
   "cell_type": "markdown",
   "metadata": {},
   "source": [
    "Upper and lower bounds of error bar (will need to get length for `plt.errorbar`)"
   ]
  },
  {
   "cell_type": "code",
   "execution_count": 130,
   "metadata": {},
   "outputs": [],
   "source": [
    "npv_uppers  = np.array([dfN.loc[(dfN.temp2100 <= 1.5), \"npv\"].quantile(quants[-1]),\n",
    "                        dfN.loc[(dfN.temp2100 > 1.5) & (dfN.temp2100 <= 2.5), \"npv\"].quantile(quants[-1]),\n",
    "                        dfN.loc[(dfN.temp2100 > 2.5) & (dfN.temp2100 <= 3.5), \"npv\"].quantile(quants[-1]),\n",
    "                        dfN.loc[(dfN.temp2100 > 3.5) & (dfN.temp2100 <= 4.5), \"npv\"].quantile(quants[-1]),\n",
    "                        dfN.loc[(dfN.temp2100 > 4.5), \"npv\"].quantile(quants[-1])])\n",
    "npv_lowers  = np.array([dfN.loc[(dfN.temp2100 <= 1.5), \"npv\"].quantile(quants[0]),\n",
    "                        dfN.loc[(dfN.temp2100 > 1.5) & (dfN.temp2100 <= 2.5), \"npv\"].quantile(quants[0]),\n",
    "                        dfN.loc[(dfN.temp2100 > 2.5) & (dfN.temp2100 <= 3.5), \"npv\"].quantile(quants[0]),\n",
    "                        dfN.loc[(dfN.temp2100 > 3.5) & (dfN.temp2100 <= 4.5), \"npv\"].quantile(quants[0]),\n",
    "                        dfN.loc[(dfN.temp2100 > 4.5), \"npv\"].quantile(quants[0])])"
   ]
  },
  {
   "cell_type": "code",
   "execution_count": 131,
   "metadata": {},
   "outputs": [
    {
     "name": "stdout",
     "output_type": "stream",
     "text": [
      "<1.5 $^\\circ$C 1194.0  ( 1024.0 - 1405.0 )\n",
      "1.5-2.5 $^\\circ$C 1527.0  ( 1192.0 - 2481.0 )\n",
      "2.5-3.5 $^\\circ$C 1945.0  ( 1523.0 - 2883.0 )\n",
      "3.5-4.5 $^\\circ$C 3683.0  ( 2682.0 - 4372.0 )\n",
      ">4.5 $^\\circ$C 4042.0  ( 3408.0 - 4756.0 )\n"
     ]
    }
   ],
   "source": [
    "for t in range(len(threshold_labels)):\n",
    "    print(threshold_labels[t], np.round(npv_heights[t]), \" (\",np.round(npv_lowers[t]),\"-\",np.round(npv_uppers[t]),\")\")"
   ]
  },
  {
   "cell_type": "code",
   "execution_count": 162,
   "metadata": {},
   "outputs": [
    {
     "data": {
      "image/png": "[encoded data removed]",
      "text/plain": [
       "<Figure size 216x162 with 1 Axes>"
      ]
     },
     "metadata": {
      "needs_background": "light"
     },
     "output_type": "display_data"
    }
   ],
   "source": [
    "fig,ax = plt.subplots(1,1,figsize=(3,2.25))\n",
    "plt.bar(x=threshold_labels, height=npv_heights, width=0.6)\n",
    "plt.errorbar(x=threshold_labels, y=npv_heights, \n",
    "             yerr=[npv_heights-npv_lowers, npv_uppers-npv_heights],\n",
    "             fmt='o', color=\"firebrick\", elinewidth=1.5, capsize=8, capthick=1.5)\n",
    "plt.ylabel(\"NPV of Total Costs\\n(billion 2010$US)\", fontsize=10.5)\n",
    "plt.xticks(rotation=30, fontsize=10); plt.yticks(fontsize=10)\n",
    "plt.grid(); ax.set_axisbelow(True)\n",
    "fig.savefig(\"./figures/npv_global_bar.pdf\", bbox_inches='tight');"
   ]
  },
  {
   "cell_type": "markdown",
   "metadata": {},
   "source": [
    "### NPV (global), as histograms/kdes"
   ]
  },
  {
   "cell_type": "code",
   "execution_count": 133,
   "metadata": {},
   "outputs": [],
   "source": [
    "npv_kde = [stats.gaussian_kde(dfN.loc[(dfN.temp2100 <= 1.5), \"npv\"]),\n",
    "           stats.gaussian_kde(dfN.loc[(dfN.temp2100 > 1.5) & (dfN.temp2100 <= 2.5), \"npv\"]),\n",
    "           stats.gaussian_kde(dfN.loc[(dfN.temp2100 > 2.5) & (dfN.temp2100 <= 3.5), \"npv\"]),\n",
    "           stats.gaussian_kde(dfN.loc[(dfN.temp2100 > 3.5) & (dfN.temp2100 <= 4.5), \"npv\"]),\n",
    "           stats.gaussian_kde(dfN.loc[(dfN.temp2100 > 4.5), \"npv\"])]"
   ]
  },
  {
   "cell_type": "markdown",
   "metadata": {},
   "source": [
    "KDEs of GMSL\n",
    "\n",
    "(gmsl saved as relative to 1995-2014)"
   ]
  },
  {
   "cell_type": "code",
   "execution_count": 134,
   "metadata": {},
   "outputs": [],
   "source": [
    "gmsl_kde = [stats.gaussian_kde(dfN.loc[(dfN.temp2100 <= 1.5), \"gmsl2100\"]),\n",
    "            stats.gaussian_kde(dfN.loc[(dfN.temp2100 > 1.5) & (dfN.temp2100 <= 2.5), \"gmsl2100\"]),\n",
    "            stats.gaussian_kde(dfN.loc[(dfN.temp2100 > 2.5) & (dfN.temp2100 <= 3.5), \"gmsl2100\"]),\n",
    "            stats.gaussian_kde(dfN.loc[(dfN.temp2100 > 3.5) & (dfN.temp2100 <= 4.5), \"gmsl2100\"]),\n",
    "            stats.gaussian_kde(dfN.loc[(dfN.temp2100 > 4.5), \"gmsl2100\"])]"
   ]
  },
  {
   "cell_type": "markdown",
   "metadata": {},
   "source": [
    "combined version (NPV + GMSL)"
   ]
  },
  {
   "cell_type": "code",
   "execution_count": 135,
   "metadata": {},
   "outputs": [
    {
     "data": {
      "image/png": "[encoded data removed]",
      "text/plain": [
       "<Figure size 540x216 with 2 Axes>"
      ]
     },
     "metadata": {
      "needs_background": "light"
     },
     "output_type": "display_data"
    }
   ],
   "source": [
    "fig,ax = plt.subplots(1,2,figsize=(7.5,3))\n",
    "\n",
    "# NPV\n",
    "x = np.linspace(start=0, stop=6000, num=500)\n",
    "for t in range(len(threshold_labels)):\n",
    "    ax[0].plot(x, npv_kde[t].evaluate(x), color=threshold_colors[t], label=threshold_labels[t])\n",
    "ax[0].set_xlabel(\"Total Damages (billion 2010 USD)\"); ax[0].set_ylabel(\"Density\"); ax[0].set_yticks([])\n",
    "ax[0].legend(); ax[0].text(0,0.0028,\"a.\",fontsize=14); ax[0].set_ylim([0,0.0031])\n",
    "\n",
    "# GMSL\n",
    "x = np.linspace(start=0, stop=3, num=500)\n",
    "for t in range(len(threshold_labels)):\n",
    "    ax[1].plot(x, gmsl_kde[t].evaluate(x), color=threshold_colors[t], label=threshold_labels[t])\n",
    "ax[1].set_xlabel(\"Global mean sea-level change (m)\"); ax[1].set_ylabel(\"Density\"); #ax[1].set_yticks([])\n",
    "ax[1].text(0,6,\"b.\",fontsize=14); ax[1].set_ylim([0,6.7])\n",
    "fig.savefig(\"./figures/npv+gmsl2100_kde.pdf\", bbox_inches='tight');"
   ]
  },
  {
   "cell_type": "markdown",
   "metadata": {},
   "source": [
    "### NPV, regional breakdown as %gdp as in the example below\n",
    "\n",
    "Adapted from code in `raddleverse/CIAM_uncertainty_propagation` (Copyright, Wong, Rennels et al). citations:\n",
    "* Wong, T. (2022). CIAM uncertainty propagation experiment codes and output files (v1.0.1). Zenodo. https://doi.org/10.5281/zenodo.6835363\n",
    "*  Wong, T. E., Ledna, C., Rennels, L., Sheets, H., Errickson, F. C., Diaz, D., & Anthoff, D. (2022). Sea level and socioeconomic uncertainty drives high-end coastal adaptation costs. Earth's Future, 10, e2022EF003061. https://doi.org/10.1029/2022EF003061 \n",
    "\n",
    "https://github.com/raddleverse/CIAM_uncertainty_propagation/blob/master/work_uncertainty_propagation/plotsAndAnalysis_uncertaintyPropagation.ipynb"
   ]
  },
  {
   "cell_type": "code",
   "execution_count": 136,
   "metadata": {},
   "outputs": [],
   "source": [
    "scenarios = [(1,26),(2,45),(4,60),(5,85)]"
   ]
  },
  {
   "cell_type": "markdown",
   "metadata": {},
   "source": [
    "gdp per capita (just first year (2010), all in US$2010)"
   ]
  },
  {
   "cell_type": "code",
   "execution_count": 137,
   "metadata": {},
   "outputs": [],
   "source": [
    "ypcc = {scen : pd.read_csv(projdir+\"/data/ssp/ypcc_IIASAGDP_SSP\"+str(scen[0])+\"_v9_130219.csv\") for scen in scenarios}\n",
    "dfGP = {scen : pd.DataFrame() for scen in scenarios}\n",
    "for scen in scenarios:\n",
    "    dfGP[scen][\"rgn\"] = ypcc[scen].columns[1:]\n",
    "    dfGP[scen][\"gdp_per_capita\"] = np.array(ypcc[scen].iloc[0][1:])"
   ]
  },
  {
   "cell_type": "markdown",
   "metadata": {},
   "source": [
    "population (millions)"
   ]
  },
  {
   "cell_type": "code",
   "execution_count": 138,
   "metadata": {},
   "outputs": [],
   "source": [
    "pop = {scen : pd.read_csv(projdir+\"/data/ssp/pop_IIASAGDP_SSP\"+str(scen[0])+\"_v9_130219.csv\") for scen in scenarios}\n",
    "for scen in scenarios:\n",
    "    dfGP[scen][\"pop\"] = np.array(pop[scen].iloc[0][1:])"
   ]
  },
  {
   "cell_type": "markdown",
   "metadata": {},
   "source": [
    "get total gdp"
   ]
  },
  {
   "cell_type": "code",
   "execution_count": 139,
   "metadata": {},
   "outputs": [],
   "source": [
    "for scen in scenarios:\n",
    "    dfGP[scen][\"gdp\"] = dfGP[scen][\"gdp_per_capita\"]*dfGP[scen][\"pop\"]*1e6/1e9 \n",
    "# 1e6 since population is in units of millions\n",
    "# and /1e9 to get in units of billions US$2010"
   ]
  },
  {
   "cell_type": "markdown",
   "metadata": {},
   "source": [
    "mapping of segments/regions in CIAM, to the 7 World Bank regions\n",
    "\n",
    "gdp is in units of billions US$2010, since the NPV results are also billions"
   ]
  },
  {
   "cell_type": "code",
   "execution_count": 140,
   "metadata": {},
   "outputs": [],
   "source": [
    "wbsegs = pd.read_csv(projdir+\"/data/segments_regions_WB.csv\")\n",
    "regions = list(wbsegs[\"global region\"].unique())\n",
    "rgn_gdp = {scen : {} for scen in scenarios}\n",
    "for scen in scenarios:\n",
    "    for rgn in regions:\n",
    "        rgns_this_rgn = wbsegs.loc[wbsegs[\"global region\"]==rgn, \"regions\"].unique()\n",
    "        rgn_gdp[scen][rgn] = dfGP[scen].loc[dfGP[scen][\"rgn\"].isin(rgns_this_rgn),\"gdp\"].sum()"
   ]
  },
  {
   "cell_type": "markdown",
   "metadata": {},
   "source": [
    "compute npv as %gdp (in 2010)"
   ]
  },
  {
   "cell_type": "code",
   "execution_count": 141,
   "metadata": {},
   "outputs": [],
   "source": [
    "for scen in scenarios:\n",
    "    scen_str = str(scen[0])+\"-\"+str(scen[1])\n",
    "    for rgn in regions:\n",
    "        dfN.loc[dfN.scenario==scen_str, \"npv/gpd \"+rgn] = 100*dfN.loc[dfN.scenario==scen_str, rgn] / \\\n",
    "                                                        rgn_gdp[scen][rgn]"
   ]
  },
  {
   "cell_type": "markdown",
   "metadata": {},
   "source": [
    "global NPV as %GDP"
   ]
  },
  {
   "cell_type": "code",
   "execution_count": 142,
   "metadata": {},
   "outputs": [],
   "source": [
    "for scen in scenarios:\n",
    "    scen_str = str(scen[0])+\"-\"+str(scen[1])\n",
    "    dfN.loc[dfN.scenario==scen_str, \"npv/gpd\"] = 100*dfN.loc[dfN.scenario==scen_str, \"npv\"] / \\\n",
    "                                                    np.sum(list(rgn_gdp[scen].values()))"
   ]
  },
  {
   "cell_type": "code",
   "execution_count": 143,
   "metadata": {},
   "outputs": [
    {
     "name": "stdout",
     "output_type": "stream",
     "text": [
      "Index(['npv', 'gmsl2100', 'temp2100', 'retreat', 'brickEnsInd',\n",
      "       'Europe and Central Asia', 'Middle East and North Africa',\n",
      "       'Sub-Saharan Africa', 'Latin America and the Caribbean',\n",
      "       'East Asia and Pacific', 'South Asia', 'North America', 'scenario',\n",
      "       'npv/gpd Europe and Central Asia',\n",
      "       'npv/gpd Middle East and North Africa', 'npv/gpd Sub-Saharan Africa',\n",
      "       'npv/gpd Latin America and the Caribbean',\n",
      "       'npv/gpd East Asia and Pacific', 'npv/gpd South Asia',\n",
      "       'npv/gpd North America', 'npv/gpd'],\n",
      "      dtype='object')\n"
     ]
    }
   ],
   "source": [
    "print(dfN.columns)"
   ]
  },
  {
   "cell_type": "markdown",
   "metadata": {},
   "source": [
    "Heights for bar graphs"
   ]
  },
  {
   "cell_type": "code",
   "execution_count": 144,
   "metadata": {},
   "outputs": [],
   "source": [
    "npv_heights_rgn = {rgn : None for rgn in regions+[\"global\"]}\n",
    "\n",
    "for rgn in regions:\n",
    "    npv_heights_rgn[rgn] = np.array([dfN.loc[(dfN.temp2100 <= 1.5), \"npv/gpd \"+rgn].quantile(0.5),\n",
    "                                     dfN.loc[(dfN.temp2100 > 1.5) & (dfN.temp2100 <= 2.5), \"npv/gpd \"+rgn].quantile(0.5),\n",
    "                                     dfN.loc[(dfN.temp2100 > 2.5) & (dfN.temp2100 <= 3.5), \"npv/gpd \"+rgn].quantile(0.5),\n",
    "                                     dfN.loc[(dfN.temp2100 > 3.5) & (dfN.temp2100 <= 4.5), \"npv/gpd \"+rgn].quantile(0.5),\n",
    "                                     dfN.loc[(dfN.temp2100 > 4.5), \"npv/gpd \"+rgn].quantile(0.5)])\n",
    "npv_heights_rgn[\"global\"] = np.array([dfN.loc[(dfN.temp2100 <= 1.5), \"npv/gpd\"].quantile(0.5),\n",
    "                                      dfN.loc[(dfN.temp2100 > 1.5) & (dfN.temp2100 <= 2.5), \"npv/gpd\"].quantile(0.5),\n",
    "                                      dfN.loc[(dfN.temp2100 > 2.5) & (dfN.temp2100 <= 3.5), \"npv/gpd\"].quantile(0.5),\n",
    "                                      dfN.loc[(dfN.temp2100 > 3.5) & (dfN.temp2100 <= 4.5), \"npv/gpd\"].quantile(0.5),\n",
    "                                      dfN.loc[(dfN.temp2100 > 4.5), \"npv/gpd\"].quantile(0.5)])"
   ]
  },
  {
   "cell_type": "markdown",
   "metadata": {},
   "source": [
    "Upper and lower bounds of error bar (will need to get length for `plt.errorbar`)"
   ]
  },
  {
   "cell_type": "code",
   "execution_count": 145,
   "metadata": {},
   "outputs": [],
   "source": [
    "npv_uppers_rgn = {rgn : None for rgn in regions+[\"global\"]}\n",
    "npv_lowers_rgn = {rgn : None for rgn in regions+[\"global\"]}\n",
    "\n",
    "for rgn in regions:\n",
    "    npv_uppers_rgn[rgn] = np.array([dfN.loc[(dfN.temp2100 <= 1.5), \"npv/gpd \"+rgn].quantile(quants[-1]),\n",
    "                                    dfN.loc[(dfN.temp2100 > 1.5) & (dfN.temp2100 <= 2.5), \"npv/gpd \"+rgn].quantile(quants[-1]),\n",
    "                                    dfN.loc[(dfN.temp2100 > 2.5) & (dfN.temp2100 <= 3.5), \"npv/gpd \"+rgn].quantile(quants[-1]),\n",
    "                                    dfN.loc[(dfN.temp2100 > 3.5) & (dfN.temp2100 <= 4.5), \"npv/gpd \"+rgn].quantile(quants[-1]),\n",
    "                                    dfN.loc[(dfN.temp2100 > 4.5), \"npv/gpd \"+rgn].quantile(quants[-1])])\n",
    "    npv_lowers_rgn[rgn] = np.array([dfN.loc[(dfN.temp2100 <= 1.5), \"npv/gpd \"+rgn].quantile(quants[0]),\n",
    "                                    dfN.loc[(dfN.temp2100 > 1.5) & (dfN.temp2100 <= 2.5), \"npv/gpd \"+rgn].quantile(quants[0]),\n",
    "                                    dfN.loc[(dfN.temp2100 > 2.5) & (dfN.temp2100 <= 3.5), \"npv/gpd \"+rgn].quantile(quants[0]),\n",
    "                                    dfN.loc[(dfN.temp2100 > 3.5) & (dfN.temp2100 <= 4.5), \"npv/gpd \"+rgn].quantile(quants[0]),\n",
    "                                    dfN.loc[(dfN.temp2100 > 4.5), \"npv/gpd \"+rgn].quantile(quants[0])])\n",
    "npv_uppers_rgn[\"global\"] = np.array([dfN.loc[(dfN.temp2100 <= 1.5), \"npv/gpd\"].quantile(quants[-1]),\n",
    "                                     dfN.loc[(dfN.temp2100 > 1.5) & (dfN.temp2100 <= 2.5), \"npv/gpd\"].quantile(quants[-1]),\n",
    "                                     dfN.loc[(dfN.temp2100 > 2.5) & (dfN.temp2100 <= 3.5), \"npv/gpd\"].quantile(quants[-1]),\n",
    "                                     dfN.loc[(dfN.temp2100 > 3.5) & (dfN.temp2100 <= 4.5), \"npv/gpd\"].quantile(quants[-1]),\n",
    "                                     dfN.loc[(dfN.temp2100 > 4.5), \"npv/gpd\"].quantile(quants[-1])])\n",
    "npv_lowers_rgn[\"global\"] = np.array([dfN.loc[(dfN.temp2100 <= 1.5), \"npv/gpd\"].quantile(quants[0]),\n",
    "                                     dfN.loc[(dfN.temp2100 > 1.5) & (dfN.temp2100 <= 2.5), \"npv/gpd\"].quantile(quants[0]),\n",
    "                                     dfN.loc[(dfN.temp2100 > 2.5) & (dfN.temp2100 <= 3.5), \"npv/gpd\"].quantile(quants[0]),\n",
    "                                     dfN.loc[(dfN.temp2100 > 3.5) & (dfN.temp2100 <= 4.5), \"npv/gpd\"].quantile(quants[0]),\n",
    "                                     dfN.loc[(dfN.temp2100 > 4.5), \"npv/gpd\"].quantile(quants[0])])"
   ]
  },
  {
   "cell_type": "code",
   "execution_count": 147,
   "metadata": {},
   "outputs": [
    {
     "data": {
      "image/png": "[encoded data removed]",
      "text/plain": [
       "<Figure size 540x288 with 1 Axes>"
      ]
     },
     "metadata": {
      "needs_background": "light"
     },
     "output_type": "display_data"
    }
   ],
   "source": [
    "x = np.array([1,3,5,7,9])\n",
    "\n",
    "dx = -0.6\n",
    "fig,ax = plt.subplots(1,1,figsize=(7.5,4))\n",
    "for w in [2,4,6,8]:\n",
    "    plt.plot([w,w],[0,10],color=\"gray\",linewidth=0.5)\n",
    "for y in range(1,10):\n",
    "    plt.plot([0,10],[y,y],color=\"gray\",linewidth=0.5, zorder=0)\n",
    "for r in range(len(regions)):\n",
    "    plt.bar(x+dx, npv_heights_rgn[regions[r]], width=0.2, label=regions[r], zorder=3)\n",
    "    dx += 0.2\n",
    "plt.xlim([0,10]); plt.xticks(x, labels=threshold_labels, fontsize=12)\n",
    "plt.ylim([0,10]); plt.yticks(fontsize=12)\n",
    "plt.ylabel(\"Adaptation Costs and Damages\\n(% 2010 regional GDP)\", fontsize=12)\n",
    "plt.legend(edgecolor=\"gray\", framealpha=1, fontsize=11, borderaxespad=0.03)#plt.legend(frameon=False)\n",
    "#plt.grid(); ax.set_axisbelow(True)\n",
    "fig.savefig(\"./figures/npv_regional_bar.pdf\", bbox_inches='tight');"
   ]
  },
  {
   "cell_type": "markdown",
   "metadata": {},
   "source": [
    "Increases from one temperature threshold bin to the next"
   ]
  },
  {
   "cell_type": "code",
   "execution_count": 148,
   "metadata": {},
   "outputs": [
    {
     "name": "stdout",
     "output_type": "stream",
     "text": [
      "Europe and Central Asia          : 0.249 0.523 1.2 0.312\n",
      "Middle East and North Africa     : 0.23 0.701 1.64 -0.426\n",
      "Sub-Saharan Africa               : 0.393 0.375 3.66 0.608\n",
      "Latin America and the Caribbean  : 0.702 0.413 3.23 0.73\n",
      "East Asia and Pacific            : 0.667 0.6 2.96 0.59\n",
      "South Asia                       : 0.384 0.141 4.62 1.08\n",
      "North America                    : 0.358 0.679 1.65 0.524\n"
     ]
    }
   ],
   "source": [
    "for rgn in regions:\n",
    "    diffs = np.diff(npv_heights_rgn[rgn])\n",
    "    print(f'{rgn:33}: {diffs[0]:0.3} {diffs[1]:0.3} {diffs[2]:0.3} {diffs[3]:0.3}')"
   ]
  },
  {
   "cell_type": "code",
   "execution_count": null,
   "metadata": {},
   "outputs": [],
   "source": []
  },
  {
   "cell_type": "code",
   "execution_count": null,
   "metadata": {},
   "outputs": [],
   "source": []
  },
  {
   "cell_type": "code",
   "execution_count": 149,
   "metadata": {},
   "outputs": [
    {
     "data": {
      "text/plain": [
       "<Axes: >"
      ]
     },
     "execution_count": 149,
     "metadata": {},
     "output_type": "execute_result"
    },
    {
     "data": {
      "image/png": "[encoded data removed]",
      "text/plain": [
       "<Figure size 432x288 with 1 Axes>"
      ]
     },
     "metadata": {
      "needs_background": "light"
     },
     "output_type": "display_data"
    }
   ],
   "source": [
    "dfN[\"gmsl2100\"].hist()"
   ]
  },
  {
   "cell_type": "code",
   "execution_count": 150,
   "metadata": {},
   "outputs": [
    {
     "data": {
      "text/plain": [
       "<Axes: >"
      ]
     },
     "execution_count": 150,
     "metadata": {},
     "output_type": "execute_result"
    },
    {
     "data": {
      "image/png": "[encoded data removed]",
      "text/plain": [
       "<Figure size 432x288 with 1 Axes>"
      ]
     },
     "metadata": {
      "needs_background": "light"
     },
     "output_type": "display_data"
    }
   ],
   "source": [
    "dfN[\"temp2100\"].hist()"
   ]
  },
  {
   "cell_type": "code",
   "execution_count": 158,
   "metadata": {},
   "outputs": [
    {
     "name": "stdout",
     "output_type": "stream",
     "text": [
      "1.5 1574\n",
      "2 3070\n",
      "3 2889\n",
      "4 1691\n",
      "4.5 776\n"
     ]
    }
   ],
   "source": [
    "print(1.5,len(dfN.loc[dfN.temp2100 <= 1.5]))\n",
    "for th in [2,3,4]:\n",
    "    print(th,len(dfN.loc[abs(dfN.temp2100-th)<=0.5]))\n",
    "print(4.5,len(dfN.loc[dfN.temp2100 > 4.5]))"
   ]
  },
  {
   "cell_type": "markdown",
   "metadata": {},
   "source": [
    "# TODO- draw equal-sized subsets (500? 750?) from each threshold to make sure quantiles are not sensitive to the sample sizes"
   ]
  },
  {
   "cell_type": "code",
   "execution_count": null,
   "metadata": {},
   "outputs": [],
   "source": []
  }
 ],
 "metadata": {
  "kernelspec": {
   "display_name": "Python 3",
   "language": "python",
   "name": "python3"
  },
  "language_info": {
   "codemirror_mode": {
    "name": "ipython",
    "version": 3
   },
   "file_extension": ".py",
   "mimetype": "text/x-python",
   "name": "python",
   "nbconvert_exporter": "python",
   "pygments_lexer": "ipython3",
   "version": "3.8.3"
  }
 },
 "nbformat": 4,
 "nbformat_minor": 2
}
