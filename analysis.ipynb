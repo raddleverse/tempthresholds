{
 "cells": [
  {
   "cell_type": "code",
   "execution_count": 4,
   "metadata": {},
   "outputs": [],
   "source": [
    "import numpy as np\n",
    "import pandas as pd\n",
    "import matplotlib.pyplot as plt\n",
    "import re, os"
   ]
  },
  {
   "cell_type": "code",
   "execution_count": 3,
   "metadata": {},
   "outputs": [],
   "source": [
    "plt.style.use('tableau-colorblind10')"
   ]
  },
  {
   "cell_type": "code",
   "execution_count": 12,
   "metadata": {},
   "outputs": [],
   "source": [
    "projdir = os.getcwd()\n",
    "outdir = projdir + \"/output/MonteCarlo\"\n",
    "plotdir = projdir + \"/figures\""
   ]
  },
  {
   "cell_type": "code",
   "execution_count": 6,
   "metadata": {},
   "outputs": [
    {
     "name": "stdout",
     "output_type": "stream",
     "text": [
      "Will save plots to  /Users/aewsma/codes/tempthresholds/figures\n"
     ]
    }
   ],
   "source": [
    "if not os.path.exists(plotdir):\n",
    "    os.makedirs(plotdir)\n",
    "print(\"Will save plots to \",plotdir)"
   ]
  },
  {
   "cell_type": "code",
   "execution_count": 7,
   "metadata": {},
   "outputs": [],
   "source": [
    "scenarios = [(1,26),(2,45),(4,60),(5,85)]\n",
    "surge_option = 0\n",
    "panels = [\"a.\",\"b.\",\"c.\",\"d.\",\"e.\",\"f.\",\"g.\",\"h.\"]"
   ]
  },
  {
   "cell_type": "code",
   "execution_count": 8,
   "metadata": {},
   "outputs": [],
   "source": [
    "def subtract_ref_npv(dfO,dfG):\n",
    "    nens = dfO.ens.max()\n",
    "    npv_ref = np.zeros(nens)\n",
    "    df1 = dfO.loc[dfO.time==1]\n",
    "    for i in range(1,nens+1):\n",
    "        # first 10 of the first timestep for a single ensemble member are OptimalCost\n",
    "        # *10 to account for 10-year timestep vs annual costs\n",
    "        npv_ref[i-1] = np.sum(np.array(df1.loc[df1.ens==i,\"cost\"])[:10])*10\n",
    "    dfG.npv = dfG.npv - npv_ref\n",
    "    return dfG"
   ]
  },
  {
   "cell_type": "code",
   "execution_count": 17,
   "metadata": {},
   "outputs": [],
   "source": [
    "dfS = {scen : None for scen in scenarios}\n",
    "\n",
    "for (ssp,rcp) in scenarios:\n",
    "    slrdir = outdir + \"/SSP\"+str(ssp)+\"_BRICK\"+str(rcp)+\"/SSP\"+str(ssp)+\"_BRICK\"+str(rcp)+\"_global_varySLR/CIAM MC50/PostProcessing\"\n",
    "    dfS[(ssp,rcp)] = pd.read_csv(slrdir+\"/globalnpv_SSP\"+str(ssp)+\"_BRICK\"+str(rcp)+\"_global_varySLR.csv\")\n",
    "    dfO = pd.read_csv(slrdir+\"/globalts_\"+str(rcp)+\"_SSP\"+str(ssp)+\"_BRICK\"+str(rcp)+\"_global_varySLR.csv\")\n",
    "    dfS[(ssp,rcp)] = subtract_ref_npv(dfO,dfS[(ssp,rcp)])\n",
    "\n",
    "    dfR = pd.read_csv(slrdir+\"/regionnpv_SSP\"+str(ssp)+\"_BRICK\"+str(rcp)+\"_global_varySLR.csv\")\n",
    "    dfO = pd.read_csv(slrdir+\"/regionts_SSP\"+str(ssp)+\"_BRICK\"+str(rcp)+\"_global_varySLR.csv\")\n",
    "    dfR = dfR - dfO\n",
    "\n",
    "    dfS[(ssp,rcp)] = dfS[(ssp,rcp)].join(dfR)\n",
    "    dfS[(ssp,rcp)][\"scenario\"] = [str(ssp)+\"-\"+str(rcp)]*len(dfS[(ssp,rcp)])\n",
    "    "
   ]
  },
  {
   "cell_type": "code",
   "execution_count": 22,
   "metadata": {},
   "outputs": [],
   "source": [
    "dfN = pd.concat([dfS[(ssp,rcp)] for (ssp,rcp) in scenarios])"
   ]
  },
  {
   "cell_type": "code",
   "execution_count": 27,
   "metadata": {},
   "outputs": [
    {
     "data": {
      "text/plain": [
       "0.05    1399.390119\n",
       "0.50    1911.173786\n",
       "0.95    2488.693071\n",
       "Name: npv, dtype: float64"
      ]
     },
     "execution_count": 27,
     "metadata": {},
     "output_type": "execute_result"
    }
   ],
   "source": [
    "dfN.loc[(dfN.temp2100 > 1.5) & (dfN.temp2100 <= 2.5), \"npv\"].quantile([.05,.5,.95])"
   ]
  },
  {
   "cell_type": "code",
   "execution_count": 28,
   "metadata": {},
   "outputs": [
    {
     "data": {
      "text/plain": [
       "0.05    1869.171779\n",
       "0.50    3649.198414\n",
       "0.95    4096.437922\n",
       "Name: npv, dtype: float64"
      ]
     },
     "execution_count": 28,
     "metadata": {},
     "output_type": "execute_result"
    }
   ],
   "source": [
    "dfN.loc[(dfN.temp2100 > 2.5) & (dfN.temp2100 <= 3.5), \"npv\"].quantile([.05,.5,.95])"
   ]
  },
  {
   "cell_type": "markdown",
   "metadata": {},
   "source": [
    "# todo - histograms etc like in the other file"
   ]
  },
  {
   "cell_type": "code",
   "execution_count": null,
   "metadata": {},
   "outputs": [],
   "source": []
  },
  {
   "cell_type": "markdown",
   "metadata": {},
   "source": [
    "# todo - compare strategies using the `globalts_...` files"
   ]
  },
  {
   "cell_type": "markdown",
   "metadata": {},
   "source": []
  },
  {
   "cell_type": "markdown",
   "metadata": {},
   "source": [
    "# todo - temperature time series"
   ]
  },
  {
   "cell_type": "markdown",
   "metadata": {},
   "source": []
  }
 ],
 "metadata": {
  "kernelspec": {
   "display_name": "Python 3",
   "language": "python",
   "name": "python3"
  },
  "language_info": {
   "codemirror_mode": {
    "name": "ipython",
    "version": 3
   },
   "file_extension": ".py",
   "mimetype": "text/x-python",
   "name": "python",
   "nbconvert_exporter": "python",
   "pygments_lexer": "ipython3",
   "version": "3.8.3"
  }
 },
 "nbformat": 4,
 "nbformat_minor": 2
}
