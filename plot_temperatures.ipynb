{
 "cells": [
  {
   "cell_type": "code",
   "execution_count": 4,
   "metadata": {},
   "outputs": [],
   "source": [
    "import numpy as np\n",
    "import pandas as pd\n",
    "import matplotlib.pyplot as plt\n",
    "import re, os"
   ]
  },
  {
   "cell_type": "code",
   "execution_count": 3,
   "metadata": {},
   "outputs": [],
   "source": [
    "plt.style.use('tableau-colorblind10')"
   ]
  },
  {
   "cell_type": "code",
   "execution_count": 12,
   "metadata": {},
   "outputs": [],
   "source": [
    "projdir = os.getcwd()\n",
    "datdir = projdir + \"/data/lslr/projections_csv\"\n",
    "plotdir = projdir + \"/figures\""
   ]
  },
  {
   "cell_type": "code",
   "execution_count": 6,
   "metadata": {},
   "outputs": [
    {
     "name": "stdout",
     "output_type": "stream",
     "text": [
      "Will save plots to  /Users/aewsma/codes/tempthresholds/figures\n"
     ]
    }
   ],
   "source": [
    "if not os.path.exists(plotdir):\n",
    "    os.makedirs(plotdir)\n",
    "print(\"Will save plots to \",plotdir)"
   ]
  },
  {
   "cell_type": "code",
   "execution_count": 7,
   "metadata": {},
   "outputs": [],
   "source": [
    "scenarios = [(1,26),(2,45),(4,60),(5,85)]\n",
    "panels = [\"a.\",\"b.\",\"c.\",\"d.\",\"e.\",\"f.\",\"g.\",\"h.\"]"
   ]
  },
  {
   "cell_type": "code",
   "execution_count": null,
   "metadata": {},
   "outputs": [],
   "source": []
  },
  {
   "cell_type": "markdown",
   "metadata": {},
   "source": [
    "# TODO - edit below here"
   ]
  },
  {
   "cell_type": "code",
   "execution_count": null,
   "metadata": {},
   "outputs": [],
   "source": []
  },
  {
   "cell_type": "code",
   "execution_count": 17,
   "metadata": {},
   "outputs": [],
   "source": [
    "dfS = {scen : None for scen in scenarios}\n",
    "\n",
    "for (ssp,rcp) in scenarios:\n",
    "    slrdir = outdir + \"/SSP\"+str(ssp)+\"_BRICK\"+str(rcp)+\"/SSP\"+str(ssp)+\"_BRICK\"+str(rcp)+\"_global_varySLR/CIAM MC50/PostProcessing\"\n",
    "    dfS[(ssp,rcp)] = pd.read_csv(slrdir+\"/globalnpv_SSP\"+str(ssp)+\"_BRICK\"+str(rcp)+\"_global_varySLR.csv\")\n",
    "    dfO = pd.read_csv(slrdir+\"/globalts_\"+str(rcp)+\"_SSP\"+str(ssp)+\"_BRICK\"+str(rcp)+\"_global_varySLR.csv\")\n",
    "    dfS[(ssp,rcp)] = subtract_ref_npv(dfO,dfS[(ssp,rcp)])\n",
    "\n",
    "    dfR = pd.read_csv(slrdir+\"/regionnpv_SSP\"+str(ssp)+\"_BRICK\"+str(rcp)+\"_global_varySLR.csv\")\n",
    "    dfO = pd.read_csv(slrdir+\"/regionts_SSP\"+str(ssp)+\"_BRICK\"+str(rcp)+\"_global_varySLR.csv\")\n",
    "    dfR = dfR - dfO\n",
    "\n",
    "    dfS[(ssp,rcp)] = dfS[(ssp,rcp)].join(dfR)\n",
    "    dfS[(ssp,rcp)][\"scenario\"] = [str(ssp)+\"-\"+str(rcp)]*len(dfS[(ssp,rcp)])\n",
    "    "
   ]
  },
  {
   "cell_type": "code",
   "execution_count": 22,
   "metadata": {},
   "outputs": [],
   "source": [
    "dfN = pd.concat([dfS[(ssp,rcp)] for (ssp,rcp) in scenarios])"
   ]
  },
  {
   "cell_type": "markdown",
   "metadata": {},
   "source": [
    "# todo - temperature time series"
   ]
  },
  {
   "cell_type": "markdown",
   "metadata": {},
   "source": []
  }
 ],
 "metadata": {
  "kernelspec": {
   "display_name": "Python 3",
   "language": "python",
   "name": "python3"
  },
  "language_info": {
   "codemirror_mode": {
    "name": "ipython",
    "version": 3
   },
   "file_extension": ".py",
   "mimetype": "text/x-python",
   "name": "python",
   "nbconvert_exporter": "python",
   "pygments_lexer": "ipython3",
   "version": "3.8.3"
  }
 },
 "nbformat": 4,
 "nbformat_minor": 2
}
